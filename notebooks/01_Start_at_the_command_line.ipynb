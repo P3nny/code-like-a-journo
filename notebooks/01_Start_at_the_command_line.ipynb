{
 "cells": [
  {
   "cell_type": "markdown",
   "metadata": {
    "deletable": true,
    "editable": true
   },
   "source": [
    "# Introduction to the command-line interface\n",
    "\n",
    "> **Credits:**\n",
    "https://tutorial.djangogirls.org/en/intro_to_command_line/\n",
    "\n",
    "> This chapter is also covered in the [Your new friend: Command Line](https://www.youtube.com/watch?v=jvZLWhkzX-8) video."
   ]
  },
  
  {
   "cell_type": "markdown",
   "metadata": {},
   "source": [
    "![](static/command_line.gif)"
   ]
  },
  {
   "cell_type": "markdown",
   "metadata": {
    "deletable": true,
    "editable": true
   },
   "source": [
    "### It's exciting, right?! You'll write your first line of code in just a few minutes! :)\n",
    "\n",
    "__Let us introduce you to your first new friend: the command line!__\n",
    "\n",
    "The following steps will show you how to use the black window all hackers use. It might look a bit scary at first but really it's just a prompt waiting for commands from you.\n",
    "\n",
    "> **Note** Please note that throughout this book we use the terms 'directory' and 'folder' interchangeably but they are one and the same thing."
   ]
  },
  {
   "cell_type": "markdown",
   "metadata": {
    "deletable": true,
    "editable": true
   },
   "source": [
    "## What is the command line?\n",
    "\n",
    "The window, which is usually called the __command line__ or __command-line interface__, is a text-based application for viewing, handling, and manipulating files on your computer. It's much like Windows Explorer or Finder on the Mac, but without the graphical interface. Other names for the command line are: *cmd*, *CLI*, *prompt*, *console* or *terminal*."
   ]
  },
  {
   "cell_type": "markdown",
   "metadata": {
    "deletable": true,
    "editable": true
   },
   "source": [
    "## Open the command-line interface\n",
    "\n",
    "To start some experiments we need to open our command-line interface first."
   ]
  },
  {
   "cell_type": "markdown",
   "metadata": {
    "deletable": true,
    "editable": true
   },
   "source": [
    "####  Windows\n",
    "<!--sec data-title=\"Windows\" data-id=\"windows_prompt\" data-collapse=true ces-->\n",
    "\n",
    "Go to Start menu → All Programs → Accessories → Command Prompt.\n",
    "\n",
    "<!--endsec-->"
   ]
  },
  {
   "cell_type": "markdown",
   "metadata": {
    "deletable": true,
    "editable": true
   },
   "source": [
    "#### OSX\n",
    "<!--sec data-title=\"OS X\" data-id=\"OSX_prompt\" data-collapse=true ces-->\n",
    "\n",
    "Go to Applications → Utilities → Terminal.\n",
    "\n",
    "<!--endsec-->"
   ]
  },
  {
   "cell_type": "markdown",
   "metadata": {
    "deletable": true,
    "editable": true
   },
   "source": [
    "#### LINUX\n",
    "<!--sec data-title=\"Linux\" data-id=\"linux_prompt\" data-collapse=true ces-->\n",
    "\n",
    "It's probably under Applications → Accessories → Terminal, but that may depend on your system. If it's not there, just Google it. :)\n",
    "\n",
    "<!--endsec-->"
   ]
  },
  {
   "cell_type": "markdown",
   "metadata": {
    "deletable": true,
    "editable": true
   },
   "source": [
    "## Prompt\n",
    "\n",
    "You now should see a white or black window that is waiting for your commands.\n",
    "\n",
    "#### OS X and LINUX \n",
    "<!--sec data-title=\"OS X and Linux\" data-id=\"OSX_Linux_prompt\" data-collapse=true ces-->\n",
    "\n",
    "\n",
    "If you're on Mac or Linux, you probably see `$`, just like this:\n",
    "\n",
    "**command-line**\n",
    "```\n",
    "$\n",
    "```\n",
    "<!--endsec-->"
   ]
  },
  {
   "cell_type": "markdown",
   "metadata": {},
   "source": [
    "#### WINDOWS\n",
    "<!--sec data-title=\"Windows\" data-id=\"windows_prompt2\" data-collapse=true ces-->\n",
    "\n",
    "\n",
    "On Windows, it's a `>` sign, like this:\n",
    "\n",
    "**command-line**\n",
    "```\n",
    ">\n",
    "```\n",
    "<!--endsec-->"
   ]
  },
  {
   "cell_type": "markdown",
   "metadata": {
    "deletable": true,
    "editable": true
   },
   "source": [
    "Each command will be prepended by this sign and one space, but you don't have to type it. Your computer will do it for you. :)"
   ]
  },
  {
   "cell_type": "markdown",
   "metadata": {
    "deletable": true,
    "editable": true
   },
   "source": [
    "> Just a small note: in your case there may be something like `C:\\Users\\ola>` or `Olas-MacBook-Air:~ ola$` before the prompt sign, and this is 100% OK.\n",
    "\n",
    "The part up to and including the `$` or the `>` is called the *command line prompt*, or *prompt* for short. It prompts you to input something there.\n",
    "\n",
    "In the tutorial, when we want you to type in a command, we will include the `$` or `>`, and occasionally more to the left. You can ignore the left part and just type in the command which starts after the prompt."
   ]
  },
  {
   "cell_type": "markdown",
   "metadata": {
    "deletable": true,
    "editable": true
   },
   "source": [
    "## Your first command (YAY!)\n",
    "\n",
    "Let's start with something simple. Type this command:\n",
    "\n",
    "#### OS X and LINUX\n",
    "<!--sec data-title=\"OS X and Linux\" data-id=\"OSX_Linux_whoami\" data-collapse=true ces-->\n",
    "\n",
    "**command-line**\n",
    "```\n",
    "$ whoami\n",
    "```\n",
    "\n",
    "<!--endsec-->\n",
    "\n",
    "#### WINDOWS\n",
    "<!--sec data-title=\"Windows\" data-id=\"windows_whoami\" data-collapse=true ces-->\n",
    "\n",
    "**command-line**\n",
    "```\n",
    "> whoami\n",
    "```\n",
    "\n",
    "<!--endsec-->\n",
    "\n",
    "And then hit `enter`. \n",
    "\n",
    "\n",
    "### This is our result:\n",
    "\n",
    "**command-line**\n",
    "```\n",
    "$ whoami\n",
    "olasitarska\n",
    "```\n",
    "\n",
    "As you can see, the computer has just printed your username. Neat, huh? :)\n",
    "\n",
    "> Try to type each command; do not copy-paste. You'll remember more this way!\n",
    "\n",
    "> Pro-Tipp: But you don't have to type a command twice. Press the arrow up ⬆️ and down ⬇️ files to skip trough the commands you used before."
   ]
  },
  {
   "cell_type": "markdown",
   "metadata": {
    "deletable": true,
    "editable": true
   },
   "source": [
    "## Basics\n",
    "\n",
    "Each operating system has a slightly different set of commands for the command line, so make sure to follow instructions for your operating system. Let's try this, shall we?"
   ]
  },
  {
   "cell_type": "markdown",
   "metadata": {
    "deletable": true,
    "editable": true
   },
   "source": [
    "## Current directory\n",
    "\n",
    "It'd be nice to know where are we now, right? Let's see. Type this command and hit `enter`:\n",
    "\n",
    "#### OSX and LINUX\n",
    "<!--sec data-title=\"OS X and Linux\" data-id=\"OSX_Linux_pwd\" data-collapse=true ces-->\n",
    "\n",
    "\n",
    "**command-line**\n",
    "```\n",
    "$ pwd\n",
    "/Users/olasitarska\n",
    "```\n",
    "> Note: 'pwd' stands for 'print working directory'.\n",
    "\n",
    "<!--endsec-->\n",
    "\n",
    "#### WINDOWS\n",
    "<!--sec data-title=\"Windows\" data-id=\"windows_cd\" data-collapse=true ces-->\n",
    "\n",
    "**command-line**\n",
    "```\n",
    "> cd\n",
    "C:\\Users\\olasitarska\n",
    "```\n",
    "> Note: 'cd' stands for 'change directory'. With powershell you can use pwd just like on Linux or Mac OS X.\n",
    "\n",
    "<!--endsec-->\n",
    "\n",
    "You'll probably see something similar on your machine. Once you open the command line you usually start at your user's home directory."
   ]
  },
  {
   "cell_type": "markdown",
   "metadata": {
    "deletable": true,
    "editable": true
   },
   "source": [
    "---\n",
    "\n",
    "## List files and directories\n",
    "\n",
    "So what's in it? It'd be cool to find out. Let's see:\n",
    "\n",
    "### OS X and LINUX\n",
    "<!--sec data-title=\"OS X and Linux\" data-id=\"OSX_Linux_ls\" data-collapse=true ces-->\n",
    "\n",
    "**command-line**\n",
    "```\n",
    "$ ls\n",
    "Applications\n",
    "Desktop\n",
    "Downloads\n",
    "Music\n",
    "...\n",
    "```\n",
    "<!--endsec-->\n",
    "\n",
    "#### WINDOWS\n",
    "<!--sec data-title=\"Windows\" data-id=\"windows_dir\" data-collapse=true ces-->\n",
    "\n",
    "**command-line**\n",
    "```\n",
    "> dir\n",
    " Directory of C:\\Users\\olasitarska\n",
    "05/08/2014 07:28 PM <DIR>      Applications\n",
    "05/08/2014 07:28 PM <DIR>      Desktop\n",
    "05/08/2014 07:28 PM <DIR>      Downloads\n",
    "05/08/2014 07:28 PM <DIR>      Music\n",
    "...\n",
    "```\n",
    "<!--endsec-->"
   ]
  },
  {
   "cell_type": "markdown",
   "metadata": {
    "deletable": true,
    "editable": true
   },
   "source": [
    "---\n",
    "\n",
    "## Change current directory\n",
    "\n",
    "Now, let's go to our Desktop directory:\n",
    "\n",
    "### OS X and LINUX\n",
    "<!--sec data-title=\"OS X and Linux\" data-id=\"OSX_Linux_move_to\" data-collapse=true ces-->\n",
    "\n",
    "**command-line**\n",
    "```\n",
    "$ cd Desktop\n",
    "```\n",
    "<!--endsec-->\n",
    "\n",
    "#### WINDOWS\n",
    "<!--sec data-title=\"Windows\" data-id=\"windows_move_to\" data-collapse=true ces-->\n",
    "\n",
    "\n",
    "** command-line**\n",
    "```\n",
    "> cd Desktop\n",
    "```\n",
    "<!--endsec-->\n",
    "\n",
    "Check if it's really changed:\n",
    "\n",
    "#### OS X and LINUX\n",
    "<!--sec data-title=\"OS X and Linux\" data-id=\"OSX_Linux_pwd2\" data-collapse=true ces-->\n",
    "\n",
    "**command-line**\n",
    "```\n",
    "$ pwd\n",
    "/Users/olasitarska/Desktop\n",
    "```\n",
    "<!--endsec-->\n",
    "\n",
    "### WINDOWS\n",
    "<!--sec data-title=\"Windows\" data-id=\"windows_cd2\" data-collapse=true ces-->\n",
    "\n",
    "**command-line**\n",
    "```\n",
    "> cd\n",
    "C:\\Users\\olasitarska\\Desktop\n",
    "```\n",
    "<!--endsec-->\n",
    "\n",
    "Here it is!\n",
    "\n",
    "> PRO tip: if you type `cd D` and then hit `tab` on your keyboard, the command line will automatically fill in the rest of the name so you can navigate faster. If there is more than one folder starting with \"D\", hit the `tab` key twice to get a list of options."
   ]
  },
  {
   "cell_type": "markdown",
   "metadata": {
    "deletable": true,
    "editable": true
   },
   "source": [
    "---\n",
    "\n",
    "## Create directory\n",
    "\n",
    "How about creating a practice directory on your desktop? You can do it this way:\n",
    "\n",
    "<!--sec data-title=\"OS X and Linux\" data-id=\"OSX_Linux_mkdir\" data-collapse=true ces-->\n",
    "\n",
    "#### OSX and Linux\n",
    "\n",
    "**command-line**\n",
    "```\n",
    "$ mkdir practice\n",
    "```\n",
    "<!--endsec-->\n",
    "\n",
    "#### Windows\n",
    "<!--sec data-title=\"Windows\" data-id=\"windows_mkdir\" data-collapse=true ces-->\n",
    "\n",
    "\n",
    "**command-line**\n",
    "```\n",
    "> mkdir practice\n",
    "```\n",
    "<!--endsec-->\n",
    "\n",
    "This little command will create a folder with the name `practice` on your desktop. You can check if it's there just by looking on your Desktop or by running a `ls` or `dir` command! Try it. :)\n",
    "\n",
    "> PRO tip: If you don't want to type the same commands over and over, try pressing the `up arrow` and `down arrow` on your keyboard to cycle through recently used commands."
   ]
  },
  {
   "cell_type": "markdown",
   "metadata": {
    "deletable": true,
    "editable": true
   },
   "source": [
    "---\n",
    "\n",
    "### Exercise!\n",
    "\n",
    "A small challenge for you: \n",
    "in your newly created `practice` directory, create a directory called `test`. (Use the `cd` and `mkdir` commands.)"
   ]
  },
  {
   "cell_type": "code",
   "execution_count": null,
   "metadata": {
    "collapsed": true,
    "deletable": true,
    "editable": true
   },
   "outputs": [],
   "source": []
  },
  {
   "cell_type": "markdown",
   "metadata": {
    "deletable": true,
    "editable": true
   },
   "source": [
    "### Solution:\n",
    "\n",
    "#### OS X and LINUX\n",
    "<!--sec data-title=\"OS X and Linux\" data-id=\"OSX_Linux_test_dir\" data-collapse=true ces-->\n",
    "\n",
    "**command-line**\n",
    "```\n",
    "$ cd practice\n",
    "$ mkdir test\n",
    "$ ls\n",
    "test\n",
    "```\n",
    "<!--endsec-->\n",
    "\n",
    "#### WINDOWS\n",
    "<!--sec data-title=\"Windows\" data-id=\"windows_test_dir\" data-collapse=true ces-->\n",
    "\n",
    "**command-line**\n",
    "```\n",
    "> cd practice\n",
    "> mkdir test\n",
    "> dir\n",
    "05/08/2014 07:28 PM <DIR>      test\n",
    "```\n",
    "<!--endsec-->\n",
    "\n",
    "Congrats! :)"
   ]
  },
  {
   "cell_type": "markdown",
   "metadata": {
    "deletable": true,
    "editable": true
   },
   "source": [
    "---\n",
    "\n",
    "### Clean up\n",
    "\n",
    "We don't want to leave a mess, so let's remove everything we did until that point.\n",
    "\n",
    "First, we need to get back to Desktop:\n",
    "\n",
    "### OS X and LINUX\n",
    "<!--sec data-title=\"OS X and Linux\" data-id=\"OSX_Linux_back\" data-collapse=true ces-->\n",
    "\n",
    "**command-line**\n",
    "```\n",
    "$ cd ..\n",
    "```\n",
    "<!--endsec-->\n",
    "\n",
    "### WINDOWS\n",
    "<!--sec data-title=\"Windows\" data-id=\"windows_back\" data-collapse=true ces-->\n",
    "\n",
    "\n",
    "** command-line **\n",
    "```\n",
    "> cd ..\n",
    "```\n",
    "<!--endsec-->\n",
    "\n",
    "Using `..` with the `cd` command will change your current directory to the parent directory (that is, the directory that contains your current directory).\n",
    "\n",
    "Check where you are:\n",
    "\n",
    "### OS X and LINUX\n",
    "<!--sec data-title=\"OS X and Linux\" data-id=\"OSX_Linux_pwd3\" data-collapse=true ces-->\n",
    "\n",
    "**command-line**\n",
    "```\n",
    "$ pwd\n",
    "/Users/olasitarska/Desktop\n",
    "```\n",
    "<!--endsec-->\n",
    "\n",
    "### WINDOWS\n",
    "<!--sec data-title=\"Windows\" data-id=\"windows_cd3\" data-collapse=true ces-->\n",
    "\n",
    "**command-line**\n",
    "```\n",
    "> cd\n",
    "C:\\Users\\olasitarska\\Desktop\n",
    "```\n",
    "<!--endsec-->\n",
    "\n",
    "Now time to delete the `practice` directory:\n",
    "\n",
    "> __Attention__: Deleting files using `del`, `rmdir` or `rm` is irrecoverable, meaning _the deleted files will be gone forever_! So be very careful with this command.\n",
    "\n",
    "### OS X and LINUX\n",
    "<!--sec data-title=\"OS X and Linux\" data-id=\"OSX_Linux_rm\" data-collapse=true ces-->\n",
    "\n",
    "**command-line**\n",
    "```\n",
    "$ rm -r practice\n",
    "```\n",
    "<!--endsec-->\n",
    "\n",
    "### WINDOWS\n",
    "<!--sec data-title=\"Windows\" data-id=\"windows_rmdir\" data-collapse=true ces-->\n",
    "\n",
    "**command-line**\n",
    "```\n",
    "> rmdir /S practice\n",
    "practice, Are you sure <Y/N>? Y\n",
    "```\n",
    "<!--endsec-->\n",
    "\n",
    "Done! To be sure it's actually deleted, let's check it:\n",
    "\n",
    "### OS X and LINUX \n",
    "<!--sec data-title=\"OS X and Linux\" data-id=\"OSX_Linux_ls2\" data-collapse=true ces-->\n",
    "\n",
    "**command-line**\n",
    "```\n",
    "$ ls\n",
    "```\n",
    "<!--endsec-->\n",
    "\n",
    "### WINDOWS\n",
    "<!--sec data-title=\"Windows\" data-id=\"windows_dir2\" data-collapse=true ces-->\n",
    "\n",
    "**command-line**\n",
    "```\n",
    "> dir\n",
    "```\n",
    "<!--endsec-->"
   ]
  },
  {
   "cell_type": "markdown",
   "metadata": {
    "deletable": true,
    "editable": true
   },
   "source": [
    "### Exit\n",
    "\n",
    "That's it for now! You can safely close the command line now. Let's do it the hacker way, alright? :)\n",
    "\n",
    "<!--sec data-title=\"OS X and Linux\" data-id=\"OSX_Linux_exit\" data-collapse=true ces-->\n",
    "\n",
    "> command-line\n",
    "```\n",
    "$ exit\n",
    "```\n",
    "<!--endsec-->\n",
    "\n",
    "### WINDOWS\n",
    "<!--sec data-title=\"Windows\" data-id=\"windows_exit\" data-collapse=true ces-->\n",
    "\n",
    "\n",
    "> command-line\n",
    "```\n",
    "> exit\n",
    "```\n",
    "<!--endsec-->\n",
    "\n",
    "Cool, huh? :)\n",
    "\n",
    "## Summary\n",
    "\n",
    " Here is a summary of some useful commands:\n",
    "\n",
    "Command (Windows) | Command (Mac OS / Linux) | Description                | Example\n",
    "----------------- | ------------------------ | -------------------------- | ---------------------------------------------\n",
    "exit              | exit                     | close the window           | **exit**\n",
    "cd                | cd                       | change directory           | **cd test**\n",
    "cd                | pwd                      | show the current directory | **cd** (Windows) or **pwd** (Mac OS / Linux)\n",
    "dir               | ls                       | list directories/files     | **dir**\n",
    "copy              | cp                       | copy file                  | **copy c:\\test\\test.txt c:\\windows\\test.txt**\n",
    "move              | mv                       | move file                  | **move c:\\test\\test.txt c:\\windows\\test.txt**\n",
    "mkdir             | mkdir                    | create a new directory     | **mkdir testdirectory**\n",
    "rmdir (or del)    | rm                       | delete a file              | **del c:\\test\\test.txt**\n",
    "rmdir /S          | rm -r                    | delete a directory         | **rm -r testdirectory**\n",
    "\n",
    "These are just a very few of the commands you can run in your command line, but you're not going to use anything more than that today.\n",
    "\n",
    "If you're curious, [ss64.com](http://ss64.com) contains a complete reference of commands for all operating systems."
   ]
  },
  {
   "cell_type": "code",
   "execution_count": null,
   "metadata": {
    "collapsed": true,
    "deletable": true,
    "editable": true
   },
   "outputs": [],
   "source": []
  },
  {
   "cell_type": "markdown",
   "metadata": {
    "deletable": true,
    "editable": true
   },
   "source": [
    "## Ready?\n",
    "\n",
    "**Let's dive into Python!**"
   ]
  },
  {
   "cell_type": "markdown",
   "metadata": {
    "deletable": true,
    "editable": true
   },
   "source": [
    "## Pro-Tipp: Data Science at the command line  \n",
    "\n",
    "Actually the command line is a very powerful tool for data wrangling. It's fast, scalable and there is a huge community developing tools for it - especially on the unix systems Linux and OS X. \n",
    "\n",
    "If you want to start using the command line like a data pro: \n",
    "\n",
    "> ![](static/data-science-at-the-command-line.png)\n",
    "\n",
    "> **Data Science at the Command Line** http://datascienceatthecommandline.com/"
   ]
  }
],
 "metadata": {
  "kernelspec": {
   "display_name": "Python 3",
   "language": "python",
   "name": "python3"
  },
  "language_info": {
   "codemirror_mode": {
    "name": "ipython",
    "version": 3
   },
   "file_extension": ".py",
   "mimetype": "text/x-python",
   "name": "python",
   "nbconvert_exporter": "python",
   "pygments_lexer": "ipython3",
   "version": "3.5.2"
  }
 },
 "nbformat": 4,
 "nbformat_minor": 2
}
